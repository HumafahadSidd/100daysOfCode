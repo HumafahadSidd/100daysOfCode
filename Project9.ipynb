{
  "nbformat": 4,
  "nbformat_minor": 0,
  "metadata": {
    "colab": {
      "provenance": [],
      "authorship_tag": "ABX9TyM4RpR/UYFPM07dfJvw6rR6",
      "include_colab_link": true
    },
    "kernelspec": {
      "name": "python3",
      "display_name": "Python 3"
    },
    "language_info": {
      "name": "python"
    }
  },
  "cells": [
    {
      "cell_type": "markdown",
      "metadata": {
        "id": "view-in-github",
        "colab_type": "text"
      },
      "source": [
        "<a href=\"https://colab.research.google.com/github/HumafahadSidd/Nine-major-projects-Of-python-in-colab/blob/main/Project9.ipynb\" target=\"_parent\"><img src=\"https://colab.research.google.com/assets/colab-badge.svg\" alt=\"Open In Colab\"/></a>"
      ]
    },
    {
      "cell_type": "markdown",
      "source": [
        "#build website in python and on streamlit\n"
      ],
      "metadata": {
        "id": "wdV4_hgqjlWQ"
      }
    },
    {
      "cell_type": "code",
      "source": [
        "!pip install streamlit -q\n",
        "!pip install pyngrok -q\n",
        "!pip install matplotlib"
      ],
      "metadata": {
        "id": "SptG8h99kNtz",
        "colab": {
          "base_uri": "https://localhost:8080/"
        },
        "outputId": "3fb23cf8-78dd-49bf-bb45-90494b1aab6c"
      },
      "execution_count": 3,
      "outputs": [
        {
          "output_type": "stream",
          "name": "stdout",
          "text": [
            "Requirement already satisfied: matplotlib in /usr/local/lib/python3.11/dist-packages (3.10.1)\n",
            "Requirement already satisfied: contourpy>=1.0.1 in /usr/local/lib/python3.11/dist-packages (from matplotlib) (1.3.1)\n",
            "Requirement already satisfied: cycler>=0.10 in /usr/local/lib/python3.11/dist-packages (from matplotlib) (0.12.1)\n",
            "Requirement already satisfied: fonttools>=4.22.0 in /usr/local/lib/python3.11/dist-packages (from matplotlib) (4.57.0)\n",
            "Requirement already satisfied: kiwisolver>=1.3.1 in /usr/local/lib/python3.11/dist-packages (from matplotlib) (1.4.8)\n",
            "Requirement already satisfied: numpy>=1.23 in /usr/local/lib/python3.11/dist-packages (from matplotlib) (2.2.4)\n",
            "Requirement already satisfied: packaging>=20.0 in /usr/local/lib/python3.11/dist-packages (from matplotlib) (24.2)\n",
            "Requirement already satisfied: pillow>=8 in /usr/local/lib/python3.11/dist-packages (from matplotlib) (11.1.0)\n",
            "Requirement already satisfied: pyparsing>=2.3.1 in /usr/local/lib/python3.11/dist-packages (from matplotlib) (3.2.3)\n",
            "Requirement already satisfied: python-dateutil>=2.7 in /usr/local/lib/python3.11/dist-packages (from matplotlib) (2.9.0.post0)\n",
            "Requirement already satisfied: six>=1.5 in /usr/local/lib/python3.11/dist-packages (from python-dateutil>=2.7->matplotlib) (1.17.0)\n"
          ]
        }
      ]
    },
    {
      "cell_type": "code",
      "source": [
        "from google.colab import userdata\n",
        "from pyngrok import ngrok\n",
        "pyngrok_token=userdata.get('pyngrok_auth_login')"
      ],
      "metadata": {
        "id": "9pUg31grm2d7"
      },
      "execution_count": 8,
      "outputs": []
    },
    {
      "cell_type": "code",
      "source": [
        "!ngrok authtoken {pyngrok_token}"
      ],
      "metadata": {
        "id": "W70ujY_LmQtw",
        "colab": {
          "base_uri": "https://localhost:8080/"
        },
        "outputId": "8148fa6b-8ff7-4edf-85a0-58e0a2a5ad2b"
      },
      "execution_count": 9,
      "outputs": [
        {
          "output_type": "stream",
          "name": "stdout",
          "text": [
            "Authtoken saved to configuration file: /root/.config/ngrok/ngrok.yml\n"
          ]
        }
      ]
    },
    {
      "cell_type": "code",
      "source": [
        "# Open a file and write code to it\n",
        "file = open(\"app.py\", \"w\")\n",
        "file.write(\"\"\"\n",
        "import streamlit as st\n",
        "import pandas as pd\n",
        "\n",
        "st.write(\"Simple Data Dashboard\")\n",
        "\n",
        "# File uploader for CSV files\n",
        "uploaded_file = st.file_uploader(\"Upload a CSV file\", type=[\"csv\"])\n",
        "\n",
        "if uploaded_file is not None:\n",
        "    df = pd.read_csv(uploaded_file)\n",
        "    st.write(\"Data Preview:\")\n",
        "    st.write(df.head())\n",
        "\n",
        "# Initialize an empty list to store data\n",
        "data = []\n",
        "\n",
        "# Create input fields for data collection\n",
        "name = st.text_input(\"Enter your name:\")\n",
        "age = st.number_input(\"Enter your age:\", min_value=0, step=1)\n",
        "favorite_color = st.selectbox(\"Select your favorite color:\", [\"Red\", \"Green\", \"Blue\"])\n",
        "\n",
        "# Add a button to submit data\n",
        "if st.button(\"Submit\"):\n",
        "    # Append the collected data to the list\n",
        "    data.append([name, age, favorite_color])\n",
        "    # Display the collected data as a table\n",
        "    df = pd.DataFrame(data, columns=[\"Name\", \"Age\", \"Favorite Color\"])\n",
        "    st.table(df)\n",
        "\"\"\")\n",
        "file.close()"
      ],
      "metadata": {
        "id": "jf1CFnz_yMa0"
      },
      "execution_count": 11,
      "outputs": []
    },
    {
      "cell_type": "code",
      "source": [
        "public_url = ngrok.connect(8501, proto=\"http\").public_url\n",
        "public_url"
      ],
      "metadata": {
        "id": "rxUZ8HQQmVaj",
        "colab": {
          "base_uri": "https://localhost:8080/",
          "height": 35
        },
        "outputId": "e50bebcd-4824-4d2b-cf60-2473ca76cf5c"
      },
      "execution_count": 12,
      "outputs": [
        {
          "output_type": "execute_result",
          "data": {
            "text/plain": [
              "'https://2753-104-196-166-217.ngrok-free.app'"
            ],
            "application/vnd.google.colaboratory.intrinsic+json": {
              "type": "string"
            }
          },
          "metadata": {},
          "execution_count": 12
        }
      ]
    },
    {
      "cell_type": "code",
      "source": [
        "!streamlit run app.py"
      ],
      "metadata": {
        "colab": {
          "base_uri": "https://localhost:8080/"
        },
        "id": "sJ2tPDBemY8y",
        "outputId": "d4af4d21-ab96-4786-a128-6724767887f3"
      },
      "execution_count": null,
      "outputs": [
        {
          "output_type": "stream",
          "name": "stdout",
          "text": [
            "\n",
            "Collecting usage statistics. To deactivate, set browser.gatherUsageStats to false.\n",
            "\u001b[0m\n",
            "\u001b[0m\n",
            "\u001b[34m\u001b[1m  You can now view your Streamlit app in your browser.\u001b[0m\n",
            "\u001b[0m\n",
            "\u001b[34m  Local URL: \u001b[0m\u001b[1mhttp://localhost:8501\u001b[0m\n",
            "\u001b[34m  Network URL: \u001b[0m\u001b[1mhttp://172.28.0.12:8501\u001b[0m\n",
            "\u001b[34m  External URL: \u001b[0m\u001b[1mhttp://104.196.166.217:8501\u001b[0m\n",
            "\u001b[0m\n"
          ]
        }
      ]
    }
  ]
}